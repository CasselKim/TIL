{
 "cells": [
  {
   "cell_type": "code",
   "execution_count": 100,
   "metadata": {},
   "outputs": [
    {
     "name": "stdout",
     "output_type": "stream",
     "text": [
      "{'그것이': 0, '왜냐하면': 1, '음!': 2, '때문에': 3, '약속이기': 4}\n"
     ]
    }
   ],
   "source": [
    "from IPython.display import display\n",
    "import pandas as pd\n",
    "\n",
    "your_text = '왜냐하면 그것이 약속이기 때문에 음!'\n",
    "mapping_words_in_text = {word:position for position, word in\n",
    "                        enumerate(set(your_text.lower().split(' ')))}\n",
    "print(mapping_words_in_text)"
   ]
  },
  {
   "cell_type": "code",
   "execution_count": 101,
   "metadata": {},
   "outputs": [],
   "source": [
    "corpus = ['The Quick fox jumped over the lazy dog',\n",
    "          'I sought a dog wondering around with a bird',\n",
    "          'My dog is named Fido']"
   ]
  },
  {
   "cell_type": "code",
   "execution_count": 102,
   "metadata": {},
   "outputs": [
    {
     "data": {
      "text/plain": [
       "{'the': 13,\n",
       " 'quick': 11,\n",
       " 'fox': 4,\n",
       " 'jumped': 6,\n",
       " 'over': 10,\n",
       " 'lazy': 7,\n",
       " 'dog': 2,\n",
       " 'sought': 12,\n",
       " 'wondering': 15,\n",
       " 'around': 0,\n",
       " 'with': 14,\n",
       " 'bird': 1,\n",
       " 'my': 8,\n",
       " 'is': 5,\n",
       " 'named': 9,\n",
       " 'fido': 3}"
      ]
     },
     "execution_count": 102,
     "metadata": {},
     "output_type": "execute_result"
    }
   ],
   "source": [
    "from sklearn.feature_extraction.text import CountVectorizer\n",
    "textual_one_hot_encoder = CountVectorizer(binary=True)\n",
    "textual_one_hot_encoder.fit(corpus)\n",
    "textual_one_hot_encoder.vocabulary_"
   ]
  },
  {
   "cell_type": "code",
   "execution_count": 103,
   "metadata": {},
   "outputs": [],
   "source": [
    "columns=[]\n",
    "for key,value in sorted(textual_one_hot_encoder.vocabulary_.items(),key = lambda item: item[1]) : \n",
    "    temp = ''.join(str(value)+' ('+key+')')\n",
    "    columns.append(temp)"
   ]
  },
  {
   "cell_type": "code",
   "execution_count": 104,
   "metadata": {},
   "outputs": [
    {
     "data": {
      "text/plain": [
       "['0 (around)',\n",
       " '1 (bird)',\n",
       " '2 (dog)',\n",
       " '3 (fido)',\n",
       " '4 (fox)',\n",
       " '5 (is)',\n",
       " '6 (jumped)',\n",
       " '7 (lazy)',\n",
       " '8 (my)',\n",
       " '9 (named)',\n",
       " '10 (over)',\n",
       " '11 (quick)',\n",
       " '12 (sought)',\n",
       " '13 (the)',\n",
       " '14 (with)',\n",
       " '15 (wondering)']"
      ]
     },
     "execution_count": 104,
     "metadata": {},
     "output_type": "execute_result"
    }
   ],
   "source": [
    "columns"
   ]
  },
  {
   "cell_type": "code",
   "execution_count": 105,
   "metadata": {},
   "outputs": [],
   "source": [
    "vectorized_text = textual_one_hot_encoder.transform(corpus)"
   ]
  },
  {
   "cell_type": "code",
   "execution_count": 106,
   "metadata": {
    "scrolled": true
   },
   "outputs": [
    {
     "data": {
      "text/html": [
       "<div>\n",
       "<style scoped>\n",
       "    .dataframe tbody tr th:only-of-type {\n",
       "        vertical-align: middle;\n",
       "    }\n",
       "\n",
       "    .dataframe tbody tr th {\n",
       "        vertical-align: top;\n",
       "    }\n",
       "\n",
       "    .dataframe thead th {\n",
       "        text-align: right;\n",
       "    }\n",
       "</style>\n",
       "<table border=\"1\" class=\"dataframe\">\n",
       "  <thead>\n",
       "    <tr style=\"text-align: right;\">\n",
       "      <th></th>\n",
       "      <th>0 (around)</th>\n",
       "      <th>1 (bird)</th>\n",
       "      <th>2 (dog)</th>\n",
       "      <th>3 (fido)</th>\n",
       "      <th>4 (fox)</th>\n",
       "      <th>5 (is)</th>\n",
       "      <th>6 (jumped)</th>\n",
       "      <th>7 (lazy)</th>\n",
       "      <th>8 (my)</th>\n",
       "      <th>9 (named)</th>\n",
       "      <th>10 (over)</th>\n",
       "      <th>11 (quick)</th>\n",
       "      <th>12 (sought)</th>\n",
       "      <th>13 (the)</th>\n",
       "      <th>14 (with)</th>\n",
       "      <th>15 (wondering)</th>\n",
       "    </tr>\n",
       "  </thead>\n",
       "  <tbody>\n",
       "    <tr>\n",
       "      <th>The Quick fox jumped over the lazy dog</th>\n",
       "      <td>0</td>\n",
       "      <td>0</td>\n",
       "      <td>1</td>\n",
       "      <td>0</td>\n",
       "      <td>1</td>\n",
       "      <td>0</td>\n",
       "      <td>1</td>\n",
       "      <td>1</td>\n",
       "      <td>0</td>\n",
       "      <td>0</td>\n",
       "      <td>1</td>\n",
       "      <td>1</td>\n",
       "      <td>0</td>\n",
       "      <td>1</td>\n",
       "      <td>0</td>\n",
       "      <td>0</td>\n",
       "    </tr>\n",
       "    <tr>\n",
       "      <th>I sought a dog wondering around with a bird</th>\n",
       "      <td>1</td>\n",
       "      <td>1</td>\n",
       "      <td>1</td>\n",
       "      <td>0</td>\n",
       "      <td>0</td>\n",
       "      <td>0</td>\n",
       "      <td>0</td>\n",
       "      <td>0</td>\n",
       "      <td>0</td>\n",
       "      <td>0</td>\n",
       "      <td>0</td>\n",
       "      <td>0</td>\n",
       "      <td>1</td>\n",
       "      <td>0</td>\n",
       "      <td>1</td>\n",
       "      <td>1</td>\n",
       "    </tr>\n",
       "    <tr>\n",
       "      <th>My dog is named Fido</th>\n",
       "      <td>0</td>\n",
       "      <td>0</td>\n",
       "      <td>1</td>\n",
       "      <td>1</td>\n",
       "      <td>0</td>\n",
       "      <td>1</td>\n",
       "      <td>0</td>\n",
       "      <td>0</td>\n",
       "      <td>1</td>\n",
       "      <td>1</td>\n",
       "      <td>0</td>\n",
       "      <td>0</td>\n",
       "      <td>0</td>\n",
       "      <td>0</td>\n",
       "      <td>0</td>\n",
       "      <td>0</td>\n",
       "    </tr>\n",
       "  </tbody>\n",
       "</table>\n",
       "</div>"
      ],
      "text/plain": [
       "                                             0 (around)  1 (bird)  2 (dog)  \\\n",
       "The Quick fox jumped over the lazy dog                0         0        1   \n",
       "I sought a dog wondering around with a bird           1         1        1   \n",
       "My dog is named Fido                                  0         0        1   \n",
       "\n",
       "                                             3 (fido)  4 (fox)  5 (is)  \\\n",
       "The Quick fox jumped over the lazy dog              0        1       0   \n",
       "I sought a dog wondering around with a bird         0        0       0   \n",
       "My dog is named Fido                                1        0       1   \n",
       "\n",
       "                                             6 (jumped)  7 (lazy)  8 (my)  \\\n",
       "The Quick fox jumped over the lazy dog                1         1       0   \n",
       "I sought a dog wondering around with a bird           0         0       0   \n",
       "My dog is named Fido                                  0         0       1   \n",
       "\n",
       "                                             9 (named)  10 (over)  11 (quick)  \\\n",
       "The Quick fox jumped over the lazy dog               0          1           1   \n",
       "I sought a dog wondering around with a bird          0          0           0   \n",
       "My dog is named Fido                                 1          0           0   \n",
       "\n",
       "                                             12 (sought)  13 (the)  14 (with)  \\\n",
       "The Quick fox jumped over the lazy dog                 0         1          0   \n",
       "I sought a dog wondering around with a bird            1         0          1   \n",
       "My dog is named Fido                                   0         0          0   \n",
       "\n",
       "                                             15 (wondering)  \n",
       "The Quick fox jumped over the lazy dog                    0  \n",
       "I sought a dog wondering around with a bird               1  \n",
       "My dog is named Fido                                      0  "
      ]
     },
     "execution_count": 106,
     "metadata": {},
     "output_type": "execute_result"
    }
   ],
   "source": [
    "pd.DataFrame(columns=columns, index=corpus, data=vectorized_text.todense())"
   ]
  },
  {
   "cell_type": "code",
   "execution_count": 107,
   "metadata": {},
   "outputs": [],
   "source": [
    "corpus=corpus+['John went home today']\n",
    "vectorized_text = textual_one_hot_encoder.transform(corpus)"
   ]
  },
  {
   "cell_type": "code",
   "execution_count": 108,
   "metadata": {},
   "outputs": [
    {
     "data": {
      "text/html": [
       "<div>\n",
       "<style scoped>\n",
       "    .dataframe tbody tr th:only-of-type {\n",
       "        vertical-align: middle;\n",
       "    }\n",
       "\n",
       "    .dataframe tbody tr th {\n",
       "        vertical-align: top;\n",
       "    }\n",
       "\n",
       "    .dataframe thead th {\n",
       "        text-align: right;\n",
       "    }\n",
       "</style>\n",
       "<table border=\"1\" class=\"dataframe\">\n",
       "  <thead>\n",
       "    <tr style=\"text-align: right;\">\n",
       "      <th></th>\n",
       "      <th>0 (around)</th>\n",
       "      <th>1 (bird)</th>\n",
       "      <th>2 (dog)</th>\n",
       "      <th>3 (fido)</th>\n",
       "      <th>4 (fox)</th>\n",
       "      <th>5 (is)</th>\n",
       "      <th>6 (jumped)</th>\n",
       "      <th>7 (lazy)</th>\n",
       "      <th>8 (my)</th>\n",
       "      <th>9 (named)</th>\n",
       "      <th>10 (over)</th>\n",
       "      <th>11 (quick)</th>\n",
       "      <th>12 (sought)</th>\n",
       "      <th>13 (the)</th>\n",
       "      <th>14 (with)</th>\n",
       "      <th>15 (wondering)</th>\n",
       "    </tr>\n",
       "  </thead>\n",
       "  <tbody>\n",
       "    <tr>\n",
       "      <th>The Quick fox jumped over the lazy dog</th>\n",
       "      <td>0</td>\n",
       "      <td>0</td>\n",
       "      <td>1</td>\n",
       "      <td>0</td>\n",
       "      <td>1</td>\n",
       "      <td>0</td>\n",
       "      <td>1</td>\n",
       "      <td>1</td>\n",
       "      <td>0</td>\n",
       "      <td>0</td>\n",
       "      <td>1</td>\n",
       "      <td>1</td>\n",
       "      <td>0</td>\n",
       "      <td>1</td>\n",
       "      <td>0</td>\n",
       "      <td>0</td>\n",
       "    </tr>\n",
       "    <tr>\n",
       "      <th>I sought a dog wondering around with a bird</th>\n",
       "      <td>1</td>\n",
       "      <td>1</td>\n",
       "      <td>1</td>\n",
       "      <td>0</td>\n",
       "      <td>0</td>\n",
       "      <td>0</td>\n",
       "      <td>0</td>\n",
       "      <td>0</td>\n",
       "      <td>0</td>\n",
       "      <td>0</td>\n",
       "      <td>0</td>\n",
       "      <td>0</td>\n",
       "      <td>1</td>\n",
       "      <td>0</td>\n",
       "      <td>1</td>\n",
       "      <td>1</td>\n",
       "    </tr>\n",
       "    <tr>\n",
       "      <th>My dog is named Fido</th>\n",
       "      <td>0</td>\n",
       "      <td>0</td>\n",
       "      <td>1</td>\n",
       "      <td>1</td>\n",
       "      <td>0</td>\n",
       "      <td>1</td>\n",
       "      <td>0</td>\n",
       "      <td>0</td>\n",
       "      <td>1</td>\n",
       "      <td>1</td>\n",
       "      <td>0</td>\n",
       "      <td>0</td>\n",
       "      <td>0</td>\n",
       "      <td>0</td>\n",
       "      <td>0</td>\n",
       "      <td>0</td>\n",
       "    </tr>\n",
       "    <tr>\n",
       "      <th>John went home today</th>\n",
       "      <td>0</td>\n",
       "      <td>0</td>\n",
       "      <td>0</td>\n",
       "      <td>0</td>\n",
       "      <td>0</td>\n",
       "      <td>0</td>\n",
       "      <td>0</td>\n",
       "      <td>0</td>\n",
       "      <td>0</td>\n",
       "      <td>0</td>\n",
       "      <td>0</td>\n",
       "      <td>0</td>\n",
       "      <td>0</td>\n",
       "      <td>0</td>\n",
       "      <td>0</td>\n",
       "      <td>0</td>\n",
       "    </tr>\n",
       "  </tbody>\n",
       "</table>\n",
       "</div>"
      ],
      "text/plain": [
       "                                             0 (around)  1 (bird)  2 (dog)  \\\n",
       "The Quick fox jumped over the lazy dog                0         0        1   \n",
       "I sought a dog wondering around with a bird           1         1        1   \n",
       "My dog is named Fido                                  0         0        1   \n",
       "John went home today                                  0         0        0   \n",
       "\n",
       "                                             3 (fido)  4 (fox)  5 (is)  \\\n",
       "The Quick fox jumped over the lazy dog              0        1       0   \n",
       "I sought a dog wondering around with a bird         0        0       0   \n",
       "My dog is named Fido                                1        0       1   \n",
       "John went home today                                0        0       0   \n",
       "\n",
       "                                             6 (jumped)  7 (lazy)  8 (my)  \\\n",
       "The Quick fox jumped over the lazy dog                1         1       0   \n",
       "I sought a dog wondering around with a bird           0         0       0   \n",
       "My dog is named Fido                                  0         0       1   \n",
       "John went home today                                  0         0       0   \n",
       "\n",
       "                                             9 (named)  10 (over)  11 (quick)  \\\n",
       "The Quick fox jumped over the lazy dog               0          1           1   \n",
       "I sought a dog wondering around with a bird          0          0           0   \n",
       "My dog is named Fido                                 1          0           0   \n",
       "John went home today                                 0          0           0   \n",
       "\n",
       "                                             12 (sought)  13 (the)  14 (with)  \\\n",
       "The Quick fox jumped over the lazy dog                 0         1          0   \n",
       "I sought a dog wondering around with a bird            1         0          1   \n",
       "My dog is named Fido                                   0         0          0   \n",
       "John went home today                                   0         0          0   \n",
       "\n",
       "                                             15 (wondering)  \n",
       "The Quick fox jumped over the lazy dog                    0  \n",
       "I sought a dog wondering around with a bird               1  \n",
       "My dog is named Fido                                      0  \n",
       "John went home today                                      0  "
      ]
     },
     "execution_count": 108,
     "metadata": {},
     "output_type": "execute_result"
    }
   ],
   "source": [
    "pd.DataFrame(columns=columns, index=corpus, data=vectorized_text.todense())"
   ]
  },
  {
   "cell_type": "code",
   "execution_count": 109,
   "metadata": {},
   "outputs": [
    {
     "name": "stdout",
     "output_type": "stream",
     "text": [
      "[[1. 0. 0. 1. 1. 0. 0. 1. 0. 0. 0.]\n",
      " [0. 0. 0. 1. 0. 1. 0. 1. 1. 0. 0.]\n",
      " [0. 0. 0. 1. 0. 0. 0. 1. 1. 0. 0.]\n",
      " [1. 1. 1. 0. 0. 0. 0. 0. 0. 0. 0.]]\n"
     ]
    }
   ],
   "source": [
    "# non_negative -> alternate_sign\n",
    "from sklearn.feature_extraction.text import HashingVectorizer\n",
    "hashing_trick = HashingVectorizer(n_features=11, binary=True,\n",
    "                                 norm=None, alternate_sign=True)\n",
    "M = hashing_trick.transform(corpus)\n",
    "print(M.todense())"
   ]
  },
  {
   "cell_type": "code",
   "execution_count": 110,
   "metadata": {},
   "outputs": [
    {
     "name": "stdout",
     "output_type": "stream",
     "text": [
      "[[1. 0. 1. 1. 0. 1. 0. 1. 0. 1. 0.]]\n"
     ]
    }
   ],
   "source": [
    "print(hashing_trick.transform(['John is the owner of that dog']).todense())"
   ]
  }
 ],
 "metadata": {
  "kernelspec": {
   "display_name": "Python 3",
   "language": "python",
   "name": "python3"
  },
  "language_info": {
   "codemirror_mode": {
    "name": "ipython",
    "version": 3
   },
   "file_extension": ".py",
   "mimetype": "text/x-python",
   "name": "python",
   "nbconvert_exporter": "python",
   "pygments_lexer": "ipython3",
   "version": "3.8.3"
  }
 },
 "nbformat": 4,
 "nbformat_minor": 4
}
